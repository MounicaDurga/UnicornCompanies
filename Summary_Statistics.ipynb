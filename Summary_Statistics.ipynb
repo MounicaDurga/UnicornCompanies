{
 "cells": [
  {
   "cell_type": "code",
   "execution_count": 2,
   "id": "16139466",
   "metadata": {},
   "outputs": [
    {
     "name": "stdout",
     "output_type": "stream",
     "text": [
      "Minimum valuation in billions:1.0\n",
      "Maximum valuation in billions:140.0\n",
      "Median of valuation in billions :1.6\n",
      "Mode of valuation in billions:\n",
      "0    1.0\n",
      "dtype: float64\n",
      "Mean of valuation in billions:3.2920829315332583\n",
      "Standard Deviation of valuation in billions:7.309780781805805\n",
      "Describe:\n",
      "count    1037.000000\n",
      "mean        3.292083\n",
      "std         7.309781\n",
      "min         1.000000\n",
      "25%         1.080000\n",
      "50%         1.600000\n",
      "75%         3.100000\n",
      "max       140.000000\n",
      "Name: valuation_in_billions, dtype: float64\n"
     ]
    }
   ],
   "source": [
    "# Statistical Summary for valuation_in_billions\n",
    "\n",
    "import pandas as pd\n",
    "import matplotlib.pyplot as plt\n",
    "df = pd.read_csv(\"/Users/mouny/Unicorn_Companies_after_data_cleaning.csv\")\n",
    "print(\"Minimum valuation in billions:\" + str(df['valuation_in_billions'].min()))\n",
    "print(\"Maximum valuation in billions:\" + str(df['valuation_in_billions'].max()))\n",
    "print(\"Median of valuation in billions :\" + str(df['valuation_in_billions'].median()))\n",
    "print(\"Mode of valuation in billions:\\n\" + str(df['valuation_in_billions'].mode()))\n",
    "print(\"Mean of valuation in billions:\" + str(df['valuation_in_billions'].mean()))\n",
    "print(\"Standard Deviation of valuation in billions:\" + str(df['valuation_in_billions'].std()))\n",
    "print(\"Describe:\\n\" + str(df['valuation_in_billions'].describe()))"
   ]
  },
  {
   "cell_type": "code",
   "execution_count": 3,
   "id": "4e4d68d2",
   "metadata": {},
   "outputs": [
    {
     "name": "stdout",
     "output_type": "stream",
     "text": [
      "Minmum number of investors:1.0\n",
      "Maximum number of investors:91.0\n",
      "Median of Investors count: 13.0\n",
      "Mode of Investors count:\n",
      "0    10.0\n",
      "dtype: float64\n",
      "Mean of Investors count:14.432432432432432\n",
      "Standard Deviation of Investors count:9.94653680755414\n",
      "Describe on Investors count:\n",
      "count    1036.000000\n",
      "mean       14.432432\n",
      "std         9.946537\n",
      "min         1.000000\n",
      "25%         8.000000\n",
      "50%        13.000000\n",
      "75%        19.000000\n",
      "max        91.000000\n",
      "Name: investors_count, dtype: float64\n"
     ]
    }
   ],
   "source": [
    "#Statistical summary of investors_count\n",
    "import pandas as pd\n",
    "import matplotlib.pyplot as plt\n",
    "print(\"Minmum number of investors:\" + str(df['investors_count'].min()))\n",
    "print(\"Maximum number of investors:\" + str(df['investors_count'].max()))\n",
    "print(\"Median of Investors count: \" + str(df['investors_count'].median()))\n",
    "print(\"Mode of Investors count:\\n\" + str(df['investors_count'].mode()))\n",
    "print(\"Mean of Investors count:\" + str(df['investors_count'].mean()))\n",
    "print(\"Standard Deviation of Investors count:\" + str(df['investors_count'].std()))\n",
    "print(\"Describe on Investors count:\\n\" + str(df['investors_count'].describe()))"
   ]
  },
  {
   "cell_type": "code",
   "execution_count": 5,
   "id": "0678283b",
   "metadata": {},
   "outputs": [
    {
     "name": "stdout",
     "output_type": "stream",
     "text": [
      "Minmum number of deal terms:1.0\n",
      "Maximum number of deal terms:19.0\n",
      "Median of deal terms: 3.0\n",
      "Mode of deal terms:\n",
      "0    1.0\n",
      "dtype: float64\n",
      "Mean of deal terms:3.0932539682539684\n",
      "Standard Deviation of deal terms:2.1597643511771905\n",
      "Describe on deal terms:\n",
      "count    1008.000000\n",
      "mean        3.093254\n",
      "std         2.159764\n",
      "min         1.000000\n",
      "25%         1.000000\n",
      "50%         3.000000\n",
      "75%         4.000000\n",
      "max        19.000000\n",
      "Name: deal_terms, dtype: float64\n"
     ]
    }
   ],
   "source": [
    "#Statistical summary of deal_terms\n",
    "import pandas as pd\n",
    "import matplotlib.pyplot as pltprint(\"Minmum number of deal terms:\" + str(df['deal_terms'].min()))\n",
    "print(\"Maximum number of deal terms:\" + str(df['deal_terms'].max()))\n",
    "print(\"Median of deal terms: \" + str(df['deal_terms'].median()))\n",
    "print(\"Mode of deal terms:\\n\" + str(df['deal_terms'].mode()))\n",
    "print(\"Mean of deal terms:\" + str(df['deal_terms'].mean()))\n",
    "print(\"Standard Deviation of deal terms:\" + str(df['deal_terms'].std()))\n",
    "print(\"Describe on deal terms:\\n\" + str(df['deal_terms'].describe()))"
   ]
  },
  {
   "cell_type": "code",
   "execution_count": null,
   "id": "44d9d3cf",
   "metadata": {},
   "outputs": [],
   "source": []
  }
 ],
 "metadata": {
  "kernelspec": {
   "display_name": "Python 3 (ipykernel)",
   "language": "python",
   "name": "python3"
  },
  "language_info": {
   "codemirror_mode": {
    "name": "ipython",
    "version": 3
   },
   "file_extension": ".py",
   "mimetype": "text/x-python",
   "name": "python",
   "nbconvert_exporter": "python",
   "pygments_lexer": "ipython3",
   "version": "3.9.7"
  }
 },
 "nbformat": 4,
 "nbformat_minor": 5
}
